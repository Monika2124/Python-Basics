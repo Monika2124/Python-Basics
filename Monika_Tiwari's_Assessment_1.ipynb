{
  "nbformat": 4,
  "nbformat_minor": 0,
  "metadata": {
    "colab": {
      "provenance": []
    },
    "kernelspec": {
      "name": "python3",
      "display_name": "Python 3"
    },
    "language_info": {
      "name": "python"
    }
  },
  "cells": [
    {
      "cell_type": "markdown",
      "source": [],
      "metadata": {
        "id": "H0kOmF__Mnsh"
      }
    },
    {
      "cell_type": "markdown",
      "source": [
        "#Theory Questions\n",
        "\n",
        "Q - What is Python, and why is it popular?\n",
        "  -\n",
        "\n",
        "    - Python is high programming and commonly used language in current time. It is popular due to its easy to use and learn funtion. It is well suited to data science and analyics and also widely used in tech inductries. Its in demand because of it easy to use features."
      ],
      "metadata": {
        "id": "zJGN8n7VMQc_"
      }
    },
    {
      "cell_type": "markdown",
      "source": [
        "Q - What is an interpreter in Python ?\n",
        "-\n",
        "   -  Interpreter is basically a programme where it reads codes line by line and then translate to systme unlike compiler which reads entire code and compile to system. Python is interpreter.\n"
      ],
      "metadata": {
        "id": "U5uk7BNYLioi"
      }
    },
    {
      "cell_type": "markdown",
      "source": [
        "\n",
        "Q- What are pre-defined keywords in Python ?\n",
        "-\n",
        "  - There are some 35 keywords which has its set meanings and reserved in python language and cannot be used as identifiers/variables in Python\n",
        "    - Examples - False, None, True, and, as, assert, async, await, break, class, continue, def, del, elif, else, except, finally, for, from, global, if, import, in, is, lambda, nonlocal, not, or, pass, raise, return, try, while, with, yield\n",
        "\n"
      ],
      "metadata": {
        "id": "sN_s78yGMxIZ"
      }
    },
    {
      "cell_type": "markdown",
      "source": [
        "Q- Can keywords be used as variable names ??\n",
        "-\n",
        "  - Keywords cannot be used as variable names in programming languages.  \n",
        "   Keywords are reserved words with predefined meanings that are used to define the language's syntax and structure. Using them as variable names would lead to conflicts and errors because the interpreter would be unsure whether the identifier is a keyword or a variabl:e.\n",
        "\n"
      ],
      "metadata": {
        "id": "2Zt0f2kfLRrg"
      }
    },
    {
      "cell_type": "markdown",
      "source": [
        "Q- What is mutability in Python?\n",
        "-\n",
        "  - Mutability means ability of an object to be modified. Mutability means whether something can be changed. If something is mutable, you can change it. If it's immutable, you can't.\n",
        "\n"
      ],
      "metadata": {
        "id": "2gz0qfaOOqns"
      }
    },
    {
      "cell_type": "markdown",
      "source": [
        "\n",
        "Q- Why are lists mutable, but tuples are immutable ?\n",
        "-\n",
        "  - Tuples and lists are the same in every way except 2 areas\n",
        "    - Tuples use parentheses instead of square brackets, and the items in tuples cannot be modified . Where as Lists can be changed after they’re made (you can add, remove, or update items). Tuples cannot be changed once they’re made—like a locked box.\n",
        "\n",
        "\n"
      ],
      "metadata": {
        "id": "9fsxFTHSOrqu"
      }
    },
    {
      "cell_type": "markdown",
      "source": [
        "Q- What is the difference between “==” and “is” operators in Python?\n",
        "-\n",
        "   - \"==\" checks if two things look the same.\n",
        "     \"is\" checks if two things are the same exact object in memory."
      ],
      "metadata": {
        "id": "lmKhlkmhLR04"
      }
    },
    {
      "cell_type": "markdown",
      "source": [
        "Q- What are logical operators in Python?\n",
        "-\n",
        "  - A logical operator are symbols or words used to connect two or more expressions such that the value of the compound expression produced depends only on that of the original expressions and on the meaning of the operator. Common logical operators include AND, OR, and NOT.\n"
      ],
      "metadata": {
        "id": "PpsK8IxKAPtP"
      }
    },
    {
      "cell_type": "markdown",
      "source": [
        "Q-  What is type casting in Python\n",
        "-\n",
        "   - Changing one type of value into another. For example, turning a string \"10\" into a integer 10.\n"
      ],
      "metadata": {
        "id": "Qyv1wIG_APp2"
      }
    },
    {
      "cell_type": "markdown",
      "source": [
        "Q- What is the difference between implicit and explicit type casting?\n",
        "-\n",
        "  - Explicit type conversion in programming is done manually by the programmer, while implicit conversion is handled automatically by the compiler. In more detail, explicit type conversion, also known as type casting, is when the programmer intentionally changes the data type of a value.\n",
        "   - Implicit: Python changes the type automatically.\n",
        "   - Explicit: You tell Python to change it using functions like int(), float().\n",
        "\n"
      ],
      "metadata": {
        "id": "KpiugI0EAPne"
      }
    },
    {
      "cell_type": "markdown",
      "source": [
        "Q- What is the purpose of conditional statements in Python\n",
        "-\n",
        "   - Conditional statements, like if, else if, and else, evaluate one or more conditions and determine whether a block of code should be executed.\n"
      ],
      "metadata": {
        "id": "DqFzhGGkAPlc"
      }
    },
    {
      "cell_type": "markdown",
      "source": [
        "Q-How does the elif statement work?\n",
        "-\n",
        " - The “elif” keyword in Python, stands for “else if”. It can be used in conditional statements to check for multiple conditions. For example, if the first condition is false, it moves on to the next “elif” statement to check if that condition is true.\n",
        "\n"
      ],
      "metadata": {
        "id": "-6JgTvfSAPi2"
      }
    },
    {
      "cell_type": "markdown",
      "source": [
        "\\"
      ],
      "metadata": {
        "id": "Y1USUnXvAPgP"
      }
    },
    {
      "cell_type": "markdown",
      "source": [
        "Q- What is the difference between for and while loops ?\n",
        "-\n",
        "  - The primary difference between for and while loops lies in their iteration mechanism: for loops iterate over a sequence, while while loops repeat based on a condition. for loops are better suited for situations where the number of iterations is known beforehand, while while loops are more flexible and suitable when the number of iterations is not predetermined.\n",
        "\n"
      ],
      "metadata": {
        "id": "LFfcwFsnAPd8"
      }
    },
    {
      "cell_type": "markdown",
      "source": [
        "Q- Describe a scenario where a while loop is more suitable than a for loop ?\n",
        "-\n",
        "  -When you're asking a user to enter a correct password and don’t know how many tries they'll need—you use a while loop.\n",
        "\n"
      ],
      "metadata": {
        "id": "DJjOvyXYAPbj"
      }
    },
    {
      "cell_type": "code",
      "source": [
        "# Practical Questions"
      ],
      "metadata": {
        "id": "orBUoTN5DR7B"
      },
      "execution_count": null,
      "outputs": []
    },
    {
      "cell_type": "code",
      "source": [
        "#Q-1 Write a Python program to print \"Hello, World\" ?\n",
        "\n",
        "print(\"hello world\")"
      ],
      "metadata": {
        "colab": {
          "base_uri": "https://localhost:8080/"
        },
        "id": "4q4mBN0WDWPa",
        "outputId": "f104ad92-d5d9-4f52-b41d-a92e047745eb"
      },
      "execution_count": 2,
      "outputs": [
        {
          "output_type": "stream",
          "name": "stdout",
          "text": [
            "hello world\n"
          ]
        }
      ]
    },
    {
      "cell_type": "code",
      "source": [
        "#Q -2 Write a Python program that displays your name and age8\n",
        "name = \"Monika\"\n",
        "age = 34\n",
        "print(\"Name:\", name)\n",
        "print(\"Age:\", age)\n"
      ],
      "metadata": {
        "colab": {
          "base_uri": "https://localhost:8080/"
        },
        "id": "toTqySmrDWVP",
        "outputId": "effc3602-0062-480b-c851-cd61a57909da"
      },
      "execution_count": 5,
      "outputs": [
        {
          "output_type": "stream",
          "name": "stdout",
          "text": [
            "Name: Monika\n",
            "Age: 34\n"
          ]
        }
      ]
    },
    {
      "cell_type": "code",
      "source": [
        "#Q-3 Write code to print all the pre-defined keywords in Python using the keyword library?\n",
        "\n",
        "import keyword\n",
        "print(keyword.kwlist)"
      ],
      "metadata": {
        "colab": {
          "base_uri": "https://localhost:8080/"
        },
        "id": "cPP_8CWmDWcM",
        "outputId": "e1ca938f-84a1-4aa5-c237-3bc462b37a0d"
      },
      "execution_count": 7,
      "outputs": [
        {
          "output_type": "stream",
          "name": "stdout",
          "text": [
            "['False', 'None', 'True', 'and', 'as', 'assert', 'async', 'await', 'break', 'class', 'continue', 'def', 'del', 'elif', 'else', 'except', 'finally', 'for', 'from', 'global', 'if', 'import', 'in', 'is', 'lambda', 'nonlocal', 'not', 'or', 'pass', 'raise', 'return', 'try', 'while', 'with', 'yield']\n"
          ]
        }
      ]
    },
    {
      "cell_type": "code",
      "source": [
        "#Q-4 Write a program that checks if a given word is a Python keyword?\n",
        "\n",
        "import keyword\n",
        "word = input(\"Enter a word: \")\n",
        "print(keyword.iskeyword(word))\n",
        "\n"
      ],
      "metadata": {
        "colab": {
          "base_uri": "https://localhost:8080/"
        },
        "id": "pOyCIBVzDWi2",
        "outputId": "a5f7fa5b-af33-4417-c210-f6428add7f2e"
      },
      "execution_count": 8,
      "outputs": [
        {
          "output_type": "stream",
          "name": "stdout",
          "text": [
            "Enter a word: Monika\n",
            "False\n"
          ]
        }
      ]
    },
    {
      "cell_type": "code",
      "source": [
        "#Q- 5. Create a list and tuple in Python, and demonstrate how attempting to change an element works differently for each ?\n",
        "\n",
        "my_list = [1, 2, 3]\n",
        "my_tuple = (1, 2, 3)\n",
        "\n",
        "my_list[0] = 100  # Works\n",
        "print(my_list)\n",
        "\n",
        "\n"
      ],
      "metadata": {
        "colab": {
          "base_uri": "https://localhost:8080/"
        },
        "id": "swJGfrpqGziv",
        "outputId": "3fd5fbee-d297-46ab-a9e8-eeef2bd68578"
      },
      "execution_count": 9,
      "outputs": [
        {
          "output_type": "stream",
          "name": "stdout",
          "text": [
            "[100, 2, 3]\n"
          ]
        }
      ]
    },
    {
      "cell_type": "code",
      "source": [
        "#Q-6 Write a function to demonstrate the behavior of mutable and immutable arguments?\n",
        "\n",
        "def change_values(my_list, my_number):\n",
        "    my_list[0] = 99   # This will change the list\n",
        "    my_number = 99    # This won't change the number outside\n",
        "\n",
        "lst = [1, 2, 3]\n",
        "num = 10\n",
        "change_values(lst, num)\n",
        "print(lst)  # Changed\n",
        "print(num)  # Not changed\n"
      ],
      "metadata": {
        "colab": {
          "base_uri": "https://localhost:8080/"
        },
        "id": "W77AjD0IHSFx",
        "outputId": "7170efe1-efdd-49a8-898a-2f38af60f7fb"
      },
      "execution_count": 10,
      "outputs": [
        {
          "output_type": "stream",
          "name": "stdout",
          "text": [
            "[99, 2, 3]\n",
            "10\n"
          ]
        }
      ]
    },
    {
      "cell_type": "code",
      "source": [
        "#Q-7 Write a program that performs basic arithmetic operations on two user-input numbers?\n",
        "\n",
        "a = int(input(\"Enter first number: \"))\n",
        "b = int(input(\"Enter second number: \"))\n",
        "print(\"Sum:\", a + b)\n",
        "print(\"Difference:\", a - b)\n",
        "print(\"Product:\", a * b)\n",
        "print(\"Quotient:\", a / b)\n"
      ],
      "metadata": {
        "colab": {
          "base_uri": "https://localhost:8080/"
        },
        "id": "UjjMAgr2Hdlz",
        "outputId": "4d1051ad-c532-4273-acf4-4e2f1b96aee9"
      },
      "execution_count": 11,
      "outputs": [
        {
          "output_type": "stream",
          "name": "stdout",
          "text": [
            "Enter first number: 21\n",
            "Enter second number: 12\n",
            "Sum: 33\n",
            "Difference: 9\n",
            "Product: 252\n",
            "Quotient: 1.75\n"
          ]
        }
      ]
    },
    {
      "cell_type": "code",
      "source": [
        "#Q-8 Write a program to demonstrate the use of logical operators?\n",
        "\n",
        "x = 5\n",
        "y = 10\n",
        "print(x > 2 and y > 5)   # True\n",
        "print(x > 10 or y < 15)  # True\n",
        "print(not(x == 5))       # False\n",
        "\n"
      ],
      "metadata": {
        "colab": {
          "base_uri": "https://localhost:8080/"
        },
        "id": "y17yoXiYIHGK",
        "outputId": "cc4af73e-2a6c-469f-bc95-cca36576cddb"
      },
      "execution_count": 13,
      "outputs": [
        {
          "output_type": "stream",
          "name": "stdout",
          "text": [
            "True\n",
            "True\n",
            "False\n"
          ]
        }
      ]
    },
    {
      "cell_type": "code",
      "source": [
        "#Q- 9 Write a Python program to convert user input from string to integer, float, and boolean types.?\n",
        "\n",
        "value = input(\"Enter something: \")\n",
        "print(int(value))\n",
        "print(float(value))\n",
        "print(bool(value))\n",
        "\n"
      ],
      "metadata": {
        "colab": {
          "base_uri": "https://localhost:8080/"
        },
        "id": "rivm1FypIZ9J",
        "outputId": "1a928e67-84bd-4034-ba96-3996bac766a3"
      },
      "execution_count": 15,
      "outputs": [
        {
          "output_type": "stream",
          "name": "stdout",
          "text": [
            "Enter something: 21\n",
            "21\n",
            "21.0\n",
            "True\n"
          ]
        }
      ]
    },
    {
      "cell_type": "code",
      "source": [
        "#Q- 10. Write code to demonstrate type casting with list elements ?\n",
        "\n",
        "\n",
        "a = ['1', '2', '3']  #if numbers are in between\"\" then they are considered as strings\"\n",
        "a = [int(x) for x in a]\n",
        "print(a)\n"
      ],
      "metadata": {
        "colab": {
          "base_uri": "https://localhost:8080/"
        },
        "id": "28FKeEOZIvPT",
        "outputId": "d6683288-de71-4224-ed61-76a2e932aefc"
      },
      "execution_count": 20,
      "outputs": [
        {
          "output_type": "stream",
          "name": "stdout",
          "text": [
            "[1, 2, 3]\n"
          ]
        }
      ]
    },
    {
      "cell_type": "code",
      "source": [
        "#Q- 11. Write a program that checks if a number is positive, negative, or zero.?\n",
        "\n",
        "\n",
        "num = int(input(\"Enter a number: \"))\n",
        "if num > 0:\n",
        "    print(\"Positive\")\n",
        "elif num < 0:\n",
        "    print(\"Negative\")\n",
        "else:\n",
        "    print(\"Zero\")\n"
      ],
      "metadata": {
        "colab": {
          "base_uri": "https://localhost:8080/"
        },
        "id": "26fot0ALJTWj",
        "outputId": "e5a2f6e7-e398-45be-a17e-3187df501c43"
      },
      "execution_count": 19,
      "outputs": [
        {
          "output_type": "stream",
          "name": "stdout",
          "text": [
            "Enter a number: 55\n",
            "Positive\n"
          ]
        }
      ]
    },
    {
      "cell_type": "code",
      "source": [
        "#Q- 12. Write a for loop to print numbers from 1 to 10 ?\n",
        "\n",
        "for a in range(1, 11):\n",
        "    print(a)\n"
      ],
      "metadata": {
        "colab": {
          "base_uri": "https://localhost:8080/"
        },
        "id": "wXvvoW_wJiEG",
        "outputId": "0996d12c-9ba2-49df-faaf-37c8a6b6c5d7"
      },
      "execution_count": 24,
      "outputs": [
        {
          "output_type": "stream",
          "name": "stdout",
          "text": [
            "1\n",
            "2\n",
            "3\n",
            "4\n",
            "5\n",
            "6\n",
            "7\n",
            "8\n",
            "9\n",
            "10\n"
          ]
        }
      ]
    },
    {
      "cell_type": "code",
      "source": [
        "#Q- 13. Write a Python program to find the sum of all even numbers between 1 and 50.?\n",
        "\n",
        "total = 0\n",
        "for a in range(1, 21):\n",
        "    if a % 2 == 0:\n",
        "        total += a\n",
        "print(\"Sum:\", total)\n"
      ],
      "metadata": {
        "colab": {
          "base_uri": "https://localhost:8080/"
        },
        "id": "04e88rnQKRiY",
        "outputId": "19f0a003-aee9-4839-d970-f3903a94a050"
      },
      "execution_count": 27,
      "outputs": [
        {
          "output_type": "stream",
          "name": "stdout",
          "text": [
            "Sum: 110\n"
          ]
        }
      ]
    },
    {
      "cell_type": "code",
      "source": [],
      "metadata": {
        "id": "d8Wo5-QhKsur"
      },
      "execution_count": null,
      "outputs": []
    }
  ]
}